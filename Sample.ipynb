{
 "cells": [
  {
   "cell_type": "markdown",
   "id": "1e4ea2ae-53e8-4c3f-ba52-4ba1cdb872a2",
   "metadata": {},
   "source": [
    "### Walk thru sample notebook"
   ]
  },
  {
   "cell_type": "markdown",
   "id": "da9a627d-525f-4068-8ca3-88a601b339ae",
   "metadata": {},
   "source": [
    "Here is how I calcualte `1 + 1` :"
   ]
  },
  {
   "cell_type": "code",
   "execution_count": 2,
   "id": "e4697497-ae00-4a51-8519-b89de0b8cbcf",
   "metadata": {},
   "outputs": [
    {
     "data": {
      "text/plain": [
       "2"
      ]
     },
     "execution_count": 2,
     "metadata": {},
     "output_type": "execute_result"
    }
   ],
   "source": [
    "1+1"
   ]
  },
  {
   "cell_type": "code",
   "execution_count": 3,
   "id": "f09db404-61e3-47e9-bd74-bb9d5c5f8d44",
   "metadata": {},
   "outputs": [],
   "source": [
    "from numpy import *"
   ]
  },
  {
   "cell_type": "markdown",
   "id": "9bc087ac-5bfd-4150-8133-85578d26ca64",
   "metadata": {},
   "source": [
    "Here  is how I calculate `sin`:"
   ]
  },
  {
   "cell_type": "code",
   "execution_count": 4,
   "id": "18e13fb0-0605-4fc0-9731-6cbec1202ead",
   "metadata": {},
   "outputs": [
    {
     "data": {
      "text/plain": [
       "array([0.84147098, 1.        ])"
      ]
     },
     "execution_count": 4,
     "metadata": {},
     "output_type": "execute_result"
    }
   ],
   "source": [
    "a = array([1.0,pi/2])\n",
    "sin(a)"
   ]
  },
  {
   "cell_type": "code",
   "execution_count": null,
   "id": "9157fc27-6d56-4368-ae4b-5c41955ed6eb",
   "metadata": {},
   "outputs": [],
   "source": []
  }
 ],
 "metadata": {
  "kernelspec": {
   "display_name": "Python 3 (ipykernel)",
   "language": "python",
   "name": "python3"
  },
  "language_info": {
   "codemirror_mode": {
    "name": "ipython",
    "version": 3
   },
   "file_extension": ".py",
   "mimetype": "text/x-python",
   "name": "python",
   "nbconvert_exporter": "python",
   "pygments_lexer": "ipython3",
   "version": "3.9.13"
  }
 },
 "nbformat": 4,
 "nbformat_minor": 5
}
